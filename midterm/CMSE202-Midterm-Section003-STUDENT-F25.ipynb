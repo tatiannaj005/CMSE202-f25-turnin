{
 "cells": [
  {
   "cell_type": "markdown",
   "id": "3def3efc",
   "metadata": {
    "tags": []
   },
   "source": [
    "# Tatianna Jefferson CMSE 202 Midterm (Section 003 - Fall 2025)\n",
    "\n",
    "The goal of this midterm is to give you the opportunity to test out some of the skills that you've developed thus far this semester. In particular, you'll practice setting up a GitHub repository, committing and pushing repository changes, downloading data with command line tools, performing some data analysis, possibly using a new Python package, and writing a python class. You should find that you have all of the skills necessary to complete this exam with even just eight weeks of CMSE 202 under your belt!\n",
    "\n",
    "You are encouraged to look through the entire exam before you get started so that you can appropriately budget your time and understand the broad goals of the exam. Once you've read through it, try doing Parts 0 and 1 first so that you have your repository set up and you download all necessary data files as they will be necessary to complete the assigned tasks. Let your instructor know right away if you have problems downloading the data!\n",
    "\n",
    "The exam is set up so that even if you get stuck on one part there are opportunities to get points on the other parts, so consider jumping ahead if you feel like you aren't making progress and then come back later if you have time. If you have any questions during the exam, you may ask the instructor, the TA, or the LA privately: simply raise your hand and one of us will come over to you. \n",
    "\n",
    "\n",
    "**Important note about using online resources**: This exam is \"open internet\". That means that you can look up documentation, google how to accomplish certain Python tasks, etc. Being able to effectively use the internet for computational modeling and data science is a very important skill, so we want to make sure you have the opportunity to exercise that skill. **However: The use of any person-to-person communication software or generative AI tools is absolutely not acceptable.** If you are seen accessing your email, using a collaborative cloud storage or document software (e.g. Slack, Google Documents), or generative AIs (e.g. ChatGPT), you will be at risk for receiving a zero on the exam. Google often does give an AI summary regardless of search, so to avoid misusing AI on the exam you should not copy-paste any of the questions from the exam directly into Google. \n",
    "\n",
    "**Keep your eyes on your screen!** Unfortunately, there isn't enough space in the room for everyone to sit at their own table so please keep your eyes on your own screen. This exam is designed to give *you* the opportunity to show the instructor what you can do and you should hold yourself accountable for maintaining a high level of academic integrity. If any of the instructors observe suspicious behavior, you will, again, risk receiving a zero.\n",
    "\n",
    "**Github Issues:** If at any point you encounter an issue with Github, such as a merge conflict, rather than spending your limited exam time trying to fix it, just write the code you would use to achieve the task in the notebook and move on. If you note the issue you encountered and have correct code in your notebook, you can still receive full credit. "
   ]
  },
  {
   "cell_type": "markdown",
   "id": "6b0b3d3a",
   "metadata": {},
   "source": [
    "---\n",
    "## Part 0: Academic integrity statement\n",
    "\n",
    "Read the following statement and edit the markdown text to put your name in the statement. This is your commitment to doing your own authentic work on this exam."
   ]
  },
  {
   "cell_type": "markdown",
   "id": "8e3dc4df",
   "metadata": {
    "pycharm": {
     "name": "#%% md\n"
    }
   },
   "source": [
    "> I, **Tatianna Jefferson**, affirm that this exam represents my own authetic work, without the use of any unpermitted aids or generative AIs or person-to-person communication. I understand that this exam an an opportunity to showcase my own progress in developing and improving my computational skills and have done my best to demonstrate those skills."
   ]
  },
  {
   "cell_type": "markdown",
   "id": "435ee396",
   "metadata": {
    "tags": []
   },
   "source": [
    "--\n",
    "## Part 1: Add to your Git repository to track your progress on your exam (10 points total)\n",
    "\n",
    "Before you get too far along in the exam, you're going to add it to the `cmse202-f25-turnin` repository you created in class (or in Homework 1) so that you can track your progress on the exam and preserve the final version that you turn in. In order to do this you need to\n",
    "\n",
    "1. Navigate to your `cmse202-f25-turnin` repository and create a new directory called `midterm`.\n",
    "2. Move this notebook into that **new directory** in your repository, then **add it and commit it to your repository**.\n",
    "3. Finally, to test that everything is working, \"git push\" the file so that it ends up in your GitHub repository.\n",
    "\n",
    "**Important**: Double check you've added your Professor and your TA as collaborators to your \"turnin\" respository (you should have done this in the previous homework assignment).\n",
    "\n",
    "**Important**: Make sure that the version of this notebook that you are working on is the same one that you just added to your repository! If you are working on a different copy of the noteobok, **none of your changes will be tracked**!\n",
    "\n",
    "The file should now show up on your GitHub account in the `cmse202-f25-turnin` repository inside the `midterm` directory you just created.  Periodically, **you'll be asked to commit your changes to the repository and push them to the remote GitHub location**. It can be good to get into a habit of committing your changes any time you make a significant modification."
   ]
  },
  {
   "cell_type": "markdown",
   "id": "290bab71",
   "metadata": {},
   "source": [
    "&#9989; **Question 1.1 Put all the Git commands you used to add your midterm folder and file to your GitHub repository (4 points)**:"
   ]
  },
  {
   "cell_type": "markdown",
   "id": "f320ae84-c175-44c7-aecb-03985d606f4c",
   "metadata": {},
   "source": [
    "### Put your code here:\n",
    "\n",
    "cd ~/CMSE202/CMSE202-f25-turnin\n",
    "\n",
    "\n",
    "mv CMSE202-Midterm-Section003-STUDENT-F25.ipynb\" midterm/\n",
    "\n",
    "\n",
    "git add midterm/\n",
    "\n",
    "\n",
    "git commit -m \"Add CMSE 202 midterm notebook\"\n",
    "\n",
    "\n",
    "git push\n"
   ]
  },
  {
   "cell_type": "markdown",
   "id": "903ce347",
   "metadata": {},
   "source": [
    "&#9989; **Question 1.2 Put the code the instructor will need to clone your repository here (1 points)**:\n"
   ]
  },
  {
   "cell_type": "markdown",
   "id": "59ca69ce-24af-4a74-ae05-272ea8a1a5f4",
   "metadata": {},
   "source": [
    "### Put your code here:\n",
    "\n",
    "git clone https://github.com/MSU-CMSE-202-F25/cmse202-f25-turnin-<tatiannaj005>.git"
   ]
  },
  {
   "cell_type": "markdown",
   "id": "8239c731",
   "metadata": {},
   "source": [
    "&#9989; **Question 1.3 Create a local branch called `exam_1_update`. What sequence of Git commands would you use to merge `exam_1_update` into `main`, resolve any conflicts if needed, and push the final result to GitHub?\n",
    " (3 points)**:\n"
   ]
  },
  {
   "cell_type": "markdown",
   "id": "7ff3d801-a473-41b5-859e-df170ac9fa6d",
   "metadata": {},
   "source": [
    "### Put your code here:\n",
    "\n",
    "\n",
    "git branch exam_1_update\n",
    "\n",
    "git checkout exam_1_update\n",
    "\n",
    "\n",
    "git add .\n",
    "    \n",
    "git commit -m \"Update midterm notebook on exam_1_update branch\"\n",
    "\n",
    "\n",
    "git checkout main\n",
    "\n",
    "\n",
    "git merge exam_1_update\n",
    "\n",
    "\n",
    "git add .\n",
    "git commit -m \"Resolve merge conflicts between main and exam_1_update\"\n",
    "\n",
    "\n",
    "git push origin m\n"
   ]
  },
  {
   "cell_type": "markdown",
   "id": "39b5c084",
   "metadata": {},
   "source": [
    "&#9989; **Question 1.4 (2 points)**: After completing each of Part 2, Part 3, Part 4, and Part 5 below, save your notebook, commit the changes to your Git repository using a descriptive commit message, and push the changes to GitHub. Note that there are large &#128721; **STOP** signs reminding you to do this after each part. **Note:** If Github issues are encountered, just write the code you would use to commit and push changes under each of the stop signs. "
   ]
  },
  {
   "cell_type": "markdown",
   "id": "2a33af2b",
   "metadata": {},
   "source": [
    "---\n",
    "## Part 2: Downloading and analyzing unfamiliar data (12 points)\n",
    "\n"
   ]
  },
  {
   "cell_type": "markdown",
   "id": "60a3afbd",
   "metadata": {},
   "source": [
    "The data set at this web link `https://raw.githubusercontent.com/NkechiC/Data-files-for-teaching/refs/heads/main/202/heart_data.csv` contains clinical test results of 303 patients at the Cleveland Clinic in Cleveland, Ohio. This data is used to estimate the incidence of vascular conditions among the patients.​"
   ]
  },
  {
   "cell_type": "markdown",
   "id": "fdbaac8f",
   "metadata": {},
   "source": [
    "&#9989; **Question 2.1  Use the `curl` function we learned in class to download the `heart_data.csv` dataset to your working directory. Include the code you used to download the dataset below.  (1 point)**:\n"
   ]
  },
  {
   "cell_type": "code",
   "execution_count": 3,
   "id": "acd32e74",
   "metadata": {},
   "outputs": [],
   "source": [
    "### Put your code here:\n",
    "\n"
   ]
  },
  {
   "cell_type": "markdown",
   "id": "5c1ff7ba",
   "metadata": {},
   "source": [
    "&#9989; **Question 2.2 Read in the dataset as a Pandas data frame and then display the first 5 rows. (1 point)**: \n",
    "\n"
   ]
  },
  {
   "cell_type": "code",
   "execution_count": 24,
   "id": "0eabef99",
   "metadata": {},
   "outputs": [],
   "source": [
    "### Put your code here:\n",
    "\n"
   ]
  },
  {
   "cell_type": "markdown",
   "id": "d86e79ad",
   "metadata": {},
   "source": [
    "&#9989; **Question 2.3 Describe the dataset by finding all the summary statistics (1 point)**: \n",
    "\n"
   ]
  },
  {
   "cell_type": "code",
   "execution_count": 26,
   "id": "7fa9bffb",
   "metadata": {},
   "outputs": [],
   "source": [
    "### Put your code here:\n",
    "\n"
   ]
  },
  {
   "cell_type": "markdown",
   "id": "2e90d1bd",
   "metadata": {},
   "source": [
    "&#9989; **Question 2.4 Now create a slice of the dataset that includes only the numerical variables `age`, `trestbps`, `chol`, `oldpeak`, and `thalach` (2 points)**: \n",
    "\n"
   ]
  },
  {
   "cell_type": "code",
   "execution_count": 17,
   "id": "7e6b7de6-d2d7-4625-986c-fb3cf947d237",
   "metadata": {},
   "outputs": [],
   "source": [
    "### Put your code here"
   ]
  },
  {
   "cell_type": "markdown",
   "id": "42fe8ccb",
   "metadata": {},
   "source": [
    "&#9989; **Question 2.5 Make a grid of four (4) scatterplots to analyze the respective correlations between age, `age`,  and the rest of the variables: resting blood pressure, cholesterol level, stress test for depression, and maximum heart rate, as measured by the variables `trestbps`, `chol`, `oldpeak`, and `thalach`, respectively. Make sure to include labels and a title for your plots. (4 points)**: \n"
   ]
  },
  {
   "cell_type": "code",
   "execution_count": 30,
   "id": "97b35785",
   "metadata": {},
   "outputs": [],
   "source": [
    "### Put your code here\n",
    "\n"
   ]
  },
  {
   "cell_type": "markdown",
   "id": "9732c055",
   "metadata": {},
   "source": [
    "&#9989; **Question 2.6 Describe the correlation relationships you observe between each pair of variables from your plots above (2 points)**: \n"
   ]
  },
  {
   "cell_type": "code",
   "execution_count": 32,
   "id": "ba179043",
   "metadata": {},
   "outputs": [],
   "source": [
    "### Put your code here\n",
    "\n"
   ]
  },
  {
   "cell_type": "markdown",
   "id": "c7fb929b",
   "metadata": {
    "jp-MarkdownHeadingCollapsed": true,
    "tags": []
   },
   "source": [
    "---\n",
    "### &#128721; STOP (1 point)\n",
    "**Pause to commit your changes to your Git repository!**\n",
    "\n",
    "Take a moment to save your notebook, commit  and push the changes to your Git repository.\n",
    "\n",
    "---"
   ]
  },
  {
   "cell_type": "markdown",
   "id": "73b28e5a",
   "metadata": {
    "jp-MarkdownHeadingCollapsed": true,
    "tags": []
   },
   "source": [
    "## Part 3: Working with a new Python package (7 points)\n",
    "\n",
    "[`Polars`](https://pola.rs/) is an open-source Python library for data manipulation. In this section, you will be exploring the `Polars` Python package along with its documentation [Docs](https://docs.pola.rs/). \n"
   ]
  },
  {
   "cell_type": "markdown",
   "id": "fac01f60",
   "metadata": {},
   "source": [
    "&#9989; **Question 3.1 Use pip install to install the Polars package. Include the code you used to install it here. Remember to include the --user flag if using JupyterHub. (1 point):** "
   ]
  },
  {
   "cell_type": "code",
   "execution_count": 34,
   "id": "cc86c046",
   "metadata": {},
   "outputs": [],
   "source": [
    "# Put your code here\n",
    "\n"
   ]
  },
  {
   "cell_type": "markdown",
   "id": "6890c0b6",
   "metadata": {},
   "source": [
    "&#9989; **Question 3.2 Now import the same `heart_data.csv` as a dataframe using Polars. (1 point):** \n"
   ]
  },
  {
   "cell_type": "code",
   "execution_count": 2,
   "id": "8901b66f",
   "metadata": {},
   "outputs": [],
   "source": [
    "# Put your code here\n"
   ]
  },
  {
   "cell_type": "markdown",
   "id": "caa1c580",
   "metadata": {},
   "source": [
    "&#9989; **Question 3.3 Now use Polar to filter the dataframe and create a subset containing only entries with `age` higher than 55 years old. Display the first 5 rows of the new dataframe. (3 points):** \n"
   ]
  },
  {
   "cell_type": "code",
   "execution_count": 38,
   "id": "54e8f1aa",
   "metadata": {},
   "outputs": [],
   "source": [
    "# Put your code here\n",
    "\n"
   ]
  },
  {
   "cell_type": "markdown",
   "id": "d4c7f3d3",
   "metadata": {},
   "source": [
    "&#9989; **Question 3.4 Now write the subset dataframe above to a csv file called `heart_data_sub.csv`. (1 point):** \n"
   ]
  },
  {
   "cell_type": "code",
   "execution_count": 40,
   "id": "b6dc5057",
   "metadata": {},
   "outputs": [],
   "source": [
    "# Put your code here\n",
    "\n"
   ]
  },
  {
   "cell_type": "markdown",
   "id": "d381baf7",
   "metadata": {
    "jp-MarkdownHeadingCollapsed": true,
    "tags": []
   },
   "source": [
    "---\n",
    "### &#128721; STOP (1 point)\n",
    "**Pause to commit your changes to your Git repository!**\n",
    "\n",
    "Take a moment to save your notebook, commit  and push the changes to your Git repository.\n",
    "\n",
    "---"
   ]
  },
  {
   "cell_type": "markdown",
   "id": "07d450c5",
   "metadata": {},
   "source": [
    "## Part 4: Writing a simple Python class (19 points)\n",
    "\n",
    "In this section, we will be developing a Python class called `GradebookManager` for managing and manipulating student grade data from multiple CSV files, using the Pandas library."
   ]
  },
  {
   "cell_type": "markdown",
   "id": "221cf324-5c17-498e-be18-465be13a22e6",
   "metadata": {},
   "source": [
    "&#9989; **Do this:** Begin by downloading the files from the following three weblinks using the `curl` command:\n",
    "1. `https://raw.githubusercontent.com/NkechiC/Data-files-for-teaching/refs/heads/main/202/final_grades.csv`\n",
    "2. `https://raw.githubusercontent.com/NkechiC/Data-files-for-teaching/refs/heads/main/202/midterm.csv`\n",
    "3. `https://raw.githubusercontent.com/NkechiC/Data-files-for-teaching/refs/heads/main/202/quiz_grades.csv`"
   ]
  },
  {
   "cell_type": "code",
   "execution_count": null,
   "id": "acbccc4f-b384-49c3-99d6-9ef4f69bd9ea",
   "metadata": {},
   "outputs": [],
   "source": []
  },
  {
   "cell_type": "markdown",
   "id": "8c264b75",
   "metadata": {},
   "source": [
    "&#9989; **Question 4.1 Below is a half-completed GradebookManager class. Complete the code for the `init`, `load_data`, `merge_datasets`, `calculate_final_grades`, and `get_student_grades` methods. Follow the descriptions in the relevant DocString and the \"COMPLETE THIS\" comments. (12 points):** \n"
   ]
  },
  {
   "cell_type": "code",
   "execution_count": 42,
   "id": "0c7c0e8c",
   "metadata": {},
   "outputs": [],
   "source": [
    "### Put your code here\n",
    "\n",
    "import pandas as pd\n",
    "\n",
    "class GradebookManager:\n",
    "    \"\"\"\n",
    "    A class to manage, merge, and process student grade data from multiple CSV files.\n",
    "\n",
    "    Attributes:\n",
    "        dataframes (dict): A dictionary of loaded DataFrames, keyed by dataset name.\n",
    "        merged_data (pd.DataFrame or None): The combined DataFrame after merging datasets.\n",
    "    \"\"\"\n",
    "\n",
    "    def __init__(self, file_paths):\n",
    "        \"\"\"\n",
    "        Initializes the GradebookManager with a list of file paths.\n",
    "\n",
    "        Args:\n",
    "            file_paths (list of str): Paths to CSV files containing student grade data.\n",
    "        \"\"\"\n",
    "        ... ##COMPLETE THIS PART!\n",
    "\n",
    "        \n",
    "    def load_data(self, file_paths):\n",
    "        \"\"\"\n",
    "        Loads CSV files into pandas DataFrames and stores them in a dictionary.\n",
    "\n",
    "        Args:\n",
    "            file_paths (list of str): Paths to CSV files.\n",
    "\n",
    "        Raises:\n",
    "            FileNotFoundError: If a file path is invalid.\n",
    "            pd.errors.EmptyDataError: If a CSV file is empty.\n",
    "        \"\"\"\n",
    "        for i, path in enumerate(file_paths):\n",
    "            try:\n",
    "                df = ... #COMPLETE THIS: load csv with Pandas\n",
    "                self.dataframes[f'dataset_{i+1}'] = df\n",
    "            \n",
    "            except ...: #COMPLETE THIS LINE!\n",
    "                print(f\"Error: File not found at {path}\")\n",
    "            \n",
    "            except ...: #COMPLETE THIS LINE!\n",
    "                print(f\"Error: Empty CSV file at {path}\")\n",
    "\n",
    "   \n",
    "    def merge_datasets(self, on_column='student_id', how='outer'):\n",
    "        \"\"\"\n",
    "        Merges all loaded datasets into a single DataFrame on a common column.\n",
    "\n",
    "        Args:\n",
    "            on_column (str): The column name to merge on (default is 'student_id').\n",
    "            how (str): Type of merge to perform (default is 'outer'). \n",
    "                       Options: 'inner', 'outer', 'left', 'right'.\n",
    "\n",
    "        Returns:\n",
    "            None\n",
    "        \"\"\"\n",
    "        if not self.dataframes:\n",
    "            ... #COMPLETE THIS LINE!\n",
    "            return\n",
    "\n",
    "        first_df_key = list(self.dataframes.keys())[0]\n",
    "        self.merged_data = self.dataframes[first_df_key]\n",
    "\n",
    "        for key, df in list(self.dataframes.items())[1:]:\n",
    "            self.merged_data = pd.merge(\n",
    "                self.merged_data, df, on=on_column, how=how, suffixes=('_x', f'_{key}')\n",
    "            )\n",
    "\n",
    "    def calculate_final_grades(self, weights=None):\n",
    "        \"\"\"\n",
    "        Calculates final grades for students using a weighted average, if weights are provided.\n",
    "\n",
    "        Args:\n",
    "            weights (dict, optional): A dictionary mapping grade component names to their weights.\n",
    "                                      e.g., {'quiz': 0.2, 'exam': 0.5, 'project': 0.3}.\n",
    "                                      If None, uses simple average.\n",
    "\n",
    "        Returns:\n",
    "            pd.DataFrame or None: DataFrame with final grades added, or None if data not merged.\n",
    "        \"\"\"\n",
    "        if ...: #COMPLETE THIS: CHECK THAT DATASETS HAVE BEEN MERGED FIRST\n",
    "            print(\"Data not merged. Please run merge_datasets first.\")\n",
    "            return None\n",
    "\n",
    "        # Placeholder for implementation\n",
    "        if weights:\n",
    "             \n",
    "            final_grades = 0\n",
    "            for key, weight in weights.items():\n",
    "                cols = [col for col in df.columns if key in col.lower()]\n",
    "                if cols:\n",
    "                    final_grades += ...  # COMPLETE THIS: Implement weighted average calculation\n",
    "                else:\n",
    "                    print(f\"Warning: No columns found for '{key}'\")\n",
    "            df['final_grade'] = final_grades\n",
    "        else:\n",
    "            df['final_grade'] = ... # COMPLETE THIS: Implement simple average calculation\n",
    "\n",
    "        self.merged_data = df\n",
    "        return df  # return a new DataFrame with final grades\n",
    "\n",
    "    def get_student_grades(self, student_id):\n",
    "        \"\"\"\n",
    "        Retrieves all grade data for a specific student by their ID.\n",
    "\n",
    "        Args:\n",
    "            student_id (str or int): The ID of the student to retrieve grades for.\n",
    "\n",
    "        Returns:\n",
    "            pd.DataFrame or None: A DataFrame containing the student's grades, or None if not found or data not merged.\n",
    "        \"\"\"\n",
    "        if ...: #COMPLETE THIS: CHECK THAT DATASETS HAVE BEEN MERGED FIRST\n",
    "            print(\"Data not merged. Please run merge_datasets first.\")\n",
    "            return None\n",
    "        \n",
    "        # Normalize student_id in DataFrame to string zero-padded\n",
    "        self.merged_data['student_id'] = self.merged_data['student_id'].astype(str).str.zfill(3)\n",
    "\n",
    "        # Normalize the input student_id similarly\n",
    "        student_id_str = str(student_id).zfill(3)\n",
    "        \n",
    "        return self.merged_data[self.merged_data['student_id'] == ...]   #COMPLETE THIS LINE!\n"
   ]
  },
  {
   "cell_type": "markdown",
   "id": "cf47f90d",
   "metadata": {},
   "source": [
    "&#9989; **Question 4.2 (6 points). Instantiate an object in this class and use it as follows:**\n",
    "1. **Initialize a Gradebook Manager object using the three provided files `quiz_grades.csv`, `midterm.csv`, and `final_grades.csv`. (2 points)**\n",
    "2. **Merge the three datasets. (1 point)**\n",
    "3. **Compute the final grades in this class using the following weights: quizzes -> 35%, midterm -> 30%, and final exam -> 35%. (2 points)**\n",
    "4. **Show the grades for the student with ID number `013`. (1 point)**\n",
    " "
   ]
  },
  {
   "cell_type": "code",
   "execution_count": 44,
   "id": "3506a66d",
   "metadata": {},
   "outputs": [],
   "source": [
    "### Put your code here\n",
    "\n"
   ]
  },
  {
   "cell_type": "markdown",
   "id": "c159cf9a",
   "metadata": {
    "tags": []
   },
   "source": [
    "---\n",
    "### &#128721; STOP (1 point)\n",
    "**Pause to commit your changes to your Git repository!**\n",
    "\n",
    "Take a moment to save your notebook, commit  and push the changes to your Git repository.\n",
    "\n",
    "---"
   ]
  },
  {
   "cell_type": "markdown",
   "id": "755cce02-7247-4e83-8c8f-9d3355f1512a",
   "metadata": {},
   "source": [
    "## Part 5: Writing a simple Python code using different programming paradigms (17 points)\n",
    "\n",
    "In this section, you will show your ability to use the three different programming paradigms we learned in class (linear, functional, and object-oriented). \n",
    "\n",
    "You work in a Chemistry laboratory. The lab prepares various chemical solutions with different solutes like NaCl, HCl, KOH, etc. Each solution is recorded with the following details: `Solution ID`, `Name`, `Mass(g)`, `Volume(mL)`, and `Molar mass(g/mol)`. \n",
    "\n",
    "Suppose you are handed the following chemical solutions data:\n",
    "| solution_id | name | mass_g | volume_ml | molar_mass | \n",
    "| ----------- | ------ | ------ | --------- | ---------- |\n",
    "| S001        | NaCl   | 5.8    | 100       | 58.44      |           \n",
    "| S002        | HCl    | 3.65   | 250       | 36.46      |\n",
    "| S003        | KOH    | 4.5    | 150       | 56.11      |\n",
    "\n",
    "And you are asked to compute the following for each solution:\n",
    "\n",
    "1. Record the data as a Pandas dataframe \n",
    "2. Moles of solute: mass_g / molar_mass\n",
    "3. Volume in liters: volume_ml / 1000\n",
    "4. Molarity (mol/L): moles / volume_L\n",
    "5. Add the computed molarity as a new column in the DataFrame\n"
   ]
  },
  {
   "cell_type": "markdown",
   "id": "565a8282-74af-4ffd-b6cf-0c483cf9588f",
   "metadata": {},
   "source": [
    "&#9989; **Question 5.1 Write code for the above task using linear programming (5 points):** "
   ]
  },
  {
   "cell_type": "code",
   "execution_count": null,
   "id": "4c321a9f-e981-4657-ad7a-c83eaa777bdb",
   "metadata": {},
   "outputs": [],
   "source": [
    "### Put your code here"
   ]
  },
  {
   "cell_type": "markdown",
   "id": "0e6d60bd-78fc-4aad-a488-4dbe6cbf762f",
   "metadata": {},
   "source": [
    "&#9989; **Question 5.2 Write code for the above task using functional programming (5 points):** "
   ]
  },
  {
   "cell_type": "code",
   "execution_count": null,
   "id": "647cf0e9-9009-4cda-909c-0aa8107dff4e",
   "metadata": {},
   "outputs": [],
   "source": [
    "### Put your code here"
   ]
  },
  {
   "cell_type": "markdown",
   "id": "7c98bcff-f743-46c9-937f-e493e92666f5",
   "metadata": {},
   "source": [
    "&#9989; **Question 5.3 Write code for the above task using object-oriented programming (5 points):** "
   ]
  },
  {
   "cell_type": "code",
   "execution_count": null,
   "id": "06556500-bcd9-4f3e-8b26-92fd4db2b945",
   "metadata": {},
   "outputs": [],
   "source": [
    "### Put your code here"
   ]
  },
  {
   "cell_type": "markdown",
   "id": "23fa07a7-a7ae-42bd-8c2b-0378bb299852",
   "metadata": {},
   "source": [
    "&#9989; **Question 5.4 Based on these results, comment on the advantages and disadvantages between linear, functional and OOP programming (1 point):** "
   ]
  },
  {
   "cell_type": "markdown",
   "id": "5e8e38cf-1f3c-4711-b90a-227424e39219",
   "metadata": {},
   "source": [
    "<font size=+3>&#9998;</font> _Put your answer here_"
   ]
  },
  {
   "cell_type": "markdown",
   "id": "14435d84-82d4-4ffc-82b9-3188de6c7103",
   "metadata": {},
   "source": [
    "---\n",
    "### &#128721; STOP (1 point)\n",
    "**Pause to commit your changes to your Git repository!**\n",
    "\n",
    "Take a moment to save your notebook, commit  and push the changes to your Git repository.\n",
    "\n",
    "---"
   ]
  },
  {
   "cell_type": "markdown",
   "id": "868efbc9",
   "metadata": {
    "jp-MarkdownHeadingCollapsed": true,
    "tags": []
   },
   "source": [
    "## You're done! Congrats on finishing your CMSE 202 Midterm!\n",
    "\n",
    "Make sure all of your changes to your repository are committed and pushed to GitHub. Also upload a copy of this notebook to the dropbox on D2L in case something went wrong with your repository or if you couldn't get the repository to work."
   ]
  }
 ],
 "metadata": {
  "kernelspec": {
   "display_name": "Python 3.12 (default)",
   "language": "python",
   "name": "python3"
  },
  "language_info": {
   "codemirror_mode": {
    "name": "ipython",
    "version": 3
   },
   "file_extension": ".py",
   "mimetype": "text/x-python",
   "name": "python",
   "nbconvert_exporter": "python",
   "pygments_lexer": "ipython3",
   "version": "3.12.11"
  }
 },
 "nbformat": 4,
 "nbformat_minor": 5
}
